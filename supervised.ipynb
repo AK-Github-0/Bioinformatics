{
 "cells": [
  {
   "cell_type": "code",
   "execution_count": 28,
   "id": "8e5993da",
   "metadata": {},
   "outputs": [],
   "source": [
    "from Bio import LogisticRegression"
   ]
  },
  {
   "cell_type": "code",
   "execution_count": 29,
   "id": "35e1e90e",
   "metadata": {},
   "outputs": [],
   "source": [
    "xs = [\n",
    "    [-53, -200.78],\n",
    "    [117, -267.14],\n",
    "    [57, -163.47],\n",
    "    [16, -190.30],\n",
    "    [11, -220.94],\n",
    "    [85, -193.94],\n",
    "    [16, -182.71],\n",
    "    [15, -180.41],\n",
    "    [-26, -181.73],\n",
    "    [58, -259.87],\n",
    "    [126, -414.53],\n",
    "    [191, -249.57],\n",
    "    [113, -265.28],\n",
    "    [145, -312.99],\n",
    "    [154, -213.83],\n",
    "    [147, -380.85],\n",
    "    [93, -291.13],\n",
    "    ]"
   ]
  },
  {
   "cell_type": "code",
   "execution_count": 30,
   "id": "791e9017",
   "metadata": {},
   "outputs": [],
   "source": [
    "ys = [1, 1, 1, 1, 1, 1, 1, 1, 1, 1, 0, 0, 0, 0, 0, 0, 0]"
   ]
  },
  {
   "cell_type": "code",
   "execution_count": 31,
   "id": "cce2325c",
   "metadata": {},
   "outputs": [],
   "source": [
    "model = LogisticRegression.train(xs, ys)"
   ]
  },
  {
   "cell_type": "code",
   "execution_count": 32,
   "id": "ab7fe07c",
   "metadata": {},
   "outputs": [
    {
     "data": {
      "text/plain": [
       "[8.983029015714466, -0.035968960444850887, 0.021813956629835183]"
      ]
     },
     "execution_count": 32,
     "metadata": {},
     "output_type": "execute_result"
    }
   ],
   "source": [
    "model.beta"
   ]
  },
  {
   "cell_type": "code",
   "execution_count": 33,
   "id": "1b017a4c",
   "metadata": {},
   "outputs": [],
   "source": [
    "def show_progress(iteration, loglikelihood):\n",
    "    print(f\"Iteration: {iteration} Log-likelihood function: {loglikelihood}\")"
   ]
  },
  {
   "cell_type": "code",
   "execution_count": 34,
   "id": "41a59673",
   "metadata": {},
   "outputs": [
    {
     "name": "stdout",
     "output_type": "stream",
     "text": [
      "Iteration: <built-in function iter> Log-likelihood function: -11.78350206951907\n",
      "Iteration: <built-in function iter> Log-likelihood function: -7.158867676721056\n",
      "Iteration: <built-in function iter> Log-likelihood function: -5.76877209867943\n",
      "Iteration: <built-in function iter> Log-likelihood function: -5.113622943382592\n",
      "Iteration: <built-in function iter> Log-likelihood function: -4.748706424325652\n",
      "Iteration: <built-in function iter> Log-likelihood function: -4.500260771460479\n",
      "Iteration: <built-in function iter> Log-likelihood function: -4.311277737371034\n",
      "Iteration: <built-in function iter> Log-likelihood function: -4.1601504339559465\n",
      "Iteration: <built-in function iter> Log-likelihood function: -4.035617197847366\n",
      "Iteration: <built-in function iter> Log-likelihood function: -3.9307328219201705\n",
      "Iteration: <built-in function iter> Log-likelihood function: -3.8408766092914273\n",
      "Iteration: <built-in function iter> Log-likelihood function: -3.762825606050504\n",
      "Iteration: <built-in function iter> Log-likelihood function: -3.694250271544351\n",
      "Iteration: <built-in function iter> Log-likelihood function: -3.6334178601959217\n",
      "Iteration: <built-in function iter> Log-likelihood function: -3.5790085583661546\n",
      "Iteration: <built-in function iter> Log-likelihood function: -3.529996713864591\n",
      "Iteration: <built-in function iter> Log-likelihood function: -3.485571451634335\n",
      "Iteration: <built-in function iter> Log-likelihood function: -3.445082061393101\n",
      "Iteration: <built-in function iter> Log-likelihood function: -3.4079994844651087\n",
      "Iteration: <built-in function iter> Log-likelihood function: -3.3738885623997366\n",
      "Iteration: <built-in function iter> Log-likelihood function: -3.3423876581020293\n",
      "Iteration: <built-in function iter> Log-likelihood function: -3.313193437691124\n",
      "Iteration: <built-in function iter> Log-likelihood function: -3.2860493346005946\n",
      "Iteration: <built-in function iter> Log-likelihood function: -3.2607366863005263\n",
      "Iteration: <built-in function iter> Log-likelihood function: -3.237067840914841\n",
      "Iteration: <built-in function iter> Log-likelihood function: -3.214880736138568\n",
      "Iteration: <built-in function iter> Log-likelihood function: -3.1940345925857248\n",
      "Iteration: <built-in function iter> Log-likelihood function: -3.174406460516389\n",
      "Iteration: <built-in function iter> Log-likelihood function: -3.155888427031873\n",
      "Iteration: <built-in function iter> Log-likelihood function: -3.1383853394732353\n",
      "Iteration: <built-in function iter> Log-likelihood function: -3.1218129359460303\n",
      "Iteration: <built-in function iter> Log-likelihood function: -3.1060962996567105\n",
      "Iteration: <built-in function iter> Log-likelihood function: -3.091168572820399\n",
      "Iteration: <built-in function iter> Log-likelihood function: -3.076969880170042\n",
      "Iteration: <built-in function iter> Log-likelihood function: -3.0634464228770604\n",
      "Iteration: <built-in function iter> Log-likelihood function: -3.050549711911315\n",
      "Iteration: <built-in function iter> Log-likelihood function: -3.0382359161858665\n",
      "Iteration: <built-in function iter> Log-likelihood function: -3.0264653057277133\n",
      "Iteration: <built-in function iter> Log-likelihood function: -3.015201773938086\n",
      "Iteration: <built-in function iter> Log-likelihood function: -3.004412426011241\n",
      "Iteration: <built-in function iter> Log-likelihood function: -2.9940672229595733\n",
      "Iteration: <built-in function iter> Log-likelihood function: -2.9841386725875947\n"
     ]
    }
   ],
   "source": [
    "model = LogisticRegression.train(xs, ys, update_fn=show_progress)"
   ]
  },
  {
   "cell_type": "code",
   "execution_count": 35,
   "id": "d5b5452d",
   "metadata": {},
   "outputs": [
    {
     "name": "stdout",
     "output_type": "stream",
     "text": [
      "[8.983029015714466, -0.035968960444850887, 0.021813956629835183]\n"
     ]
    }
   ],
   "source": [
    "print(model.beta)"
   ]
  },
  {
   "cell_type": "code",
   "execution_count": 36,
   "id": "4d58387f",
   "metadata": {},
   "outputs": [
    {
     "name": "stdout",
     "output_type": "stream",
     "text": [
      "yxcE, yxcD: 1\n"
     ]
    }
   ],
   "source": [
    "print(\"yxcE, yxcD:\", LogisticRegression.classify(model, [6, -173.143442352]))"
   ]
  },
  {
   "cell_type": "code",
   "execution_count": 37,
   "id": "6ce868e2",
   "metadata": {},
   "outputs": [
    {
     "name": "stdout",
     "output_type": "stream",
     "text": [
      "yxiB, yxiA: 0\n"
     ]
    }
   ],
   "source": [
    "print(\"yxiB, yxiA:\", LogisticRegression.classify(model, [309, -271.005880394]))"
   ]
  },
  {
   "cell_type": "code",
   "execution_count": 38,
   "id": "b4b735a1",
   "metadata": {},
   "outputs": [],
   "source": [
    "q, p = LogisticRegression.calculate(model, [6, -173.143442352])"
   ]
  },
  {
   "cell_type": "code",
   "execution_count": 39,
   "id": "840557ab",
   "metadata": {},
   "outputs": [
    {
     "name": "stdout",
     "output_type": "stream",
     "text": [
      "class OP: probability = 0.9932421635025626 class NOP: probability = 0.006757836497437442\n"
     ]
    }
   ],
   "source": [
    "print(\"class OP: probability =\", p, \"class NOP: probability =\", q)"
   ]
  },
  {
   "cell_type": "code",
   "execution_count": 40,
   "id": "624300a0",
   "metadata": {},
   "outputs": [
    {
     "name": "stdout",
     "output_type": "stream",
     "text": [
      "class OP: probability = 0.00032121125181733316 class NOP: probability = 0.9996787887481826\n"
     ]
    }
   ],
   "source": [
    "q, p = LogisticRegression.calculate(model, [309, -271.005880394])\n",
    "print(\"class OP: probability =\", p, \"class NOP: probability =\", q)"
   ]
  },
  {
   "cell_type": "code",
   "execution_count": 41,
   "id": "ca144a4e",
   "metadata": {},
   "outputs": [
    {
     "name": "stdout",
     "output_type": "stream",
     "text": [
      "True: 1 Predicted: 1\n",
      "True: 1 Predicted: 0\n",
      "True: 1 Predicted: 1\n",
      "True: 1 Predicted: 1\n",
      "True: 1 Predicted: 1\n",
      "True: 1 Predicted: 1\n",
      "True: 1 Predicted: 1\n",
      "True: 1 Predicted: 1\n",
      "True: 1 Predicted: 1\n",
      "True: 1 Predicted: 1\n",
      "True: 0 Predicted: 0\n",
      "True: 0 Predicted: 0\n",
      "True: 0 Predicted: 0\n",
      "True: 0 Predicted: 0\n",
      "True: 0 Predicted: 0\n",
      "True: 0 Predicted: 0\n",
      "True: 0 Predicted: 0\n"
     ]
    }
   ],
   "source": [
    "for i in range(len(ys)):\n",
    "    print(f\"True: {ys[i]} Predicted: {LogisticRegression.classify(model, xs[i])}\")"
   ]
  },
  {
   "cell_type": "code",
   "execution_count": 42,
   "id": "01a5f82c",
   "metadata": {},
   "outputs": [
    {
     "name": "stdout",
     "output_type": "stream",
     "text": [
      "True: 1 Predicted: 1\n",
      "True: 1 Predicted: 0\n",
      "True: 1 Predicted: 1\n",
      "True: 1 Predicted: 1\n",
      "True: 1 Predicted: 1\n",
      "True: 1 Predicted: 1\n",
      "True: 1 Predicted: 1\n",
      "True: 1 Predicted: 1\n",
      "True: 1 Predicted: 1\n",
      "True: 1 Predicted: 1\n",
      "True: 0 Predicted: 0\n",
      "True: 0 Predicted: 0\n",
      "True: 0 Predicted: 0\n",
      "True: 0 Predicted: 0\n",
      "True: 0 Predicted: 1\n",
      "True: 0 Predicted: 0\n",
      "True: 0 Predicted: 0\n"
     ]
    }
   ],
   "source": [
    "for i in range(len(ys)):\n",
    "    model = LogisticRegression.train(xs[:i] + xs[i + 1 :], ys[:i] + ys[i + 1 :])\n",
    "    print(f\"True: {ys[i]} Predicted: {LogisticRegression.classify(model, xs[i])}\")"
   ]
  },
  {
   "cell_type": "code",
   "execution_count": 43,
   "id": "e57a298a",
   "metadata": {},
   "outputs": [],
   "source": [
    "from Bio import kNN\n",
    "k = 3\n",
    "model = kNN.train(xs, ys, k)"
   ]
  },
  {
   "cell_type": "code",
   "execution_count": 44,
   "id": "fea864a2",
   "metadata": {},
   "outputs": [
    {
     "name": "stdout",
     "output_type": "stream",
     "text": [
      "yxcE, yxcD: 1\n"
     ]
    }
   ],
   "source": [
    "x = [6, -173.143442352]\n",
    "print(\"yxcE, yxcD:\", kNN.classify(model, x))"
   ]
  },
  {
   "cell_type": "code",
   "execution_count": 45,
   "id": "ac864f38",
   "metadata": {},
   "outputs": [
    {
     "name": "stdout",
     "output_type": "stream",
     "text": [
      "yxiB, yxiA: 0\n"
     ]
    }
   ],
   "source": [
    "x = [309, -271.005880394]\n",
    "print(\"yxiB, yxiA:\", kNN.classify(model, x))"
   ]
  },
  {
   "cell_type": "code",
   "execution_count": 46,
   "id": "15e59592",
   "metadata": {},
   "outputs": [],
   "source": [
    "def cityblock(x1, x2):\n",
    "    assert len(x1) == 2\n",
    "    assert len(x2) == 2\n",
    "    distance = abs(x1[0] - x2[0]) + abs(x1[1] - x2[1])\n",
    "    return distance"
   ]
  },
  {
   "cell_type": "code",
   "execution_count": 47,
   "id": "22b6c9e9",
   "metadata": {},
   "outputs": [
    {
     "name": "stdout",
     "output_type": "stream",
     "text": [
      "yxcE, yxcD: 1\n"
     ]
    }
   ],
   "source": [
    "x = [6, -173.143442352]\n",
    "print(\"yxcE, yxcD:\", kNN.classify(model, x, distance_fn=cityblock))"
   ]
  },
  {
   "cell_type": "code",
   "execution_count": 48,
   "id": "ea679db0",
   "metadata": {},
   "outputs": [],
   "source": [
    "import numpy as np\n",
    "def weight(x1, x2):\n",
    "    assert len(x1) == 2\n",
    "    assert len(x2) == 2\n",
    "    return np.exp(-abs(x1[0] - x2[0]) - abs(x1[1] - x2[1]))"
   ]
  },
  {
   "cell_type": "code",
   "execution_count": 49,
   "id": "d3e5ab88",
   "metadata": {},
   "outputs": [
    {
     "name": "stdout",
     "output_type": "stream",
     "text": [
      "yxcE, yxcD: 1\n"
     ]
    }
   ],
   "source": [
    "x = [6, -173.143442352]\n",
    "print(\"yxcE, yxcD:\", kNN.classify(model, x, weight_fn=weight))"
   ]
  },
  {
   "cell_type": "code",
   "execution_count": 50,
   "id": "135443ad",
   "metadata": {},
   "outputs": [
    {
     "name": "stdout",
     "output_type": "stream",
     "text": [
      "class OP: weight = 0.0 class NOP: weight = 3.0\n"
     ]
    }
   ],
   "source": [
    "x = [6, -173.143442352]\n",
    "weight = kNN.calculate(model, x)\n",
    "print(\"class OP: weight =\", weight[0], \"class NOP: weight =\", weight[1])"
   ]
  },
  {
   "cell_type": "code",
   "execution_count": 51,
   "id": "29942791",
   "metadata": {},
   "outputs": [
    {
     "name": "stdout",
     "output_type": "stream",
     "text": [
      "class OP: weight = 2.0 class NOP: weight = 1.0\n"
     ]
    }
   ],
   "source": [
    "x = [117, -267.14]\n",
    "weight = kNN.calculate(model, x)\n",
    "print(\"class OP: weight =\", weight[0], \"class NOP: weight =\", weight[1])"
   ]
  },
  {
   "cell_type": "code",
   "execution_count": 52,
   "id": "d23620d3",
   "metadata": {},
   "outputs": [
    {
     "name": "stdout",
     "output_type": "stream",
     "text": [
      "True: 1 Predicted: 1\n",
      "True: 1 Predicted: 0\n",
      "True: 1 Predicted: 1\n",
      "True: 1 Predicted: 1\n",
      "True: 1 Predicted: 1\n",
      "True: 1 Predicted: 1\n",
      "True: 1 Predicted: 1\n",
      "True: 1 Predicted: 1\n",
      "True: 1 Predicted: 1\n",
      "True: 1 Predicted: 0\n",
      "True: 0 Predicted: 0\n",
      "True: 0 Predicted: 0\n",
      "True: 0 Predicted: 0\n",
      "True: 0 Predicted: 0\n",
      "True: 0 Predicted: 0\n",
      "True: 0 Predicted: 0\n",
      "True: 0 Predicted: 0\n"
     ]
    }
   ],
   "source": [
    "for i in range(len(ys)):\n",
    "    print(f\"True: {ys[i]} Predicted: {kNN.classify(model, xs[i])}\")"
   ]
  },
  {
   "cell_type": "code",
   "execution_count": 53,
   "id": "28b73078",
   "metadata": {},
   "outputs": [
    {
     "name": "stdout",
     "output_type": "stream",
     "text": [
      "True: 1 Predicted: 1\n",
      "True: 1 Predicted: 0\n",
      "True: 1 Predicted: 1\n",
      "True: 1 Predicted: 1\n",
      "True: 1 Predicted: 1\n",
      "True: 1 Predicted: 1\n",
      "True: 1 Predicted: 1\n",
      "True: 1 Predicted: 1\n",
      "True: 1 Predicted: 1\n",
      "True: 1 Predicted: 0\n",
      "True: 0 Predicted: 0\n",
      "True: 0 Predicted: 0\n",
      "True: 0 Predicted: 1\n",
      "True: 0 Predicted: 0\n",
      "True: 0 Predicted: 0\n",
      "True: 0 Predicted: 0\n",
      "True: 0 Predicted: 1\n"
     ]
    }
   ],
   "source": [
    "k = 3\n",
    "for i in range(len(ys)):\n",
    "    model = kNN.train(xs[:i] + xs[i + 1 :], ys[:i] + ys[i + 1 :], k)\n",
    "    print(f\"True: {ys[i]} Predicted: {kNN.classify(model, xs[i])}\")"
   ]
  },
  {
   "cell_type": "code",
   "execution_count": null,
   "id": "b7039708",
   "metadata": {},
   "outputs": [],
   "source": []
  }
 ],
 "metadata": {
  "kernelspec": {
   "display_name": "Python 3 (ipykernel)",
   "language": "python",
   "name": "python3"
  },
  "language_info": {
   "codemirror_mode": {
    "name": "ipython",
    "version": 3
   },
   "file_extension": ".py",
   "mimetype": "text/x-python",
   "name": "python",
   "nbconvert_exporter": "python",
   "pygments_lexer": "ipython3",
   "version": "3.11.4"
  }
 },
 "nbformat": 4,
 "nbformat_minor": 5
}
