{
 "cells": [
  {
   "cell_type": "code",
   "execution_count": 19,
   "id": "e67bb8f4",
   "metadata": {},
   "outputs": [
    {
     "name": "stdout",
     "output_type": "stream",
     "text": [
      "2\n"
     ]
    },
    {
     "data": {
      "text/plain": [
       "<Alignment object (2 rows x 5 columns) at 0x24680705810>"
      ]
     },
     "execution_count": 19,
     "metadata": {},
     "output_type": "execute_result"
    }
   ],
   "source": [
    "from Bio import Align\n",
    "\n",
    "aligner = Align.PairwiseAligner()\n",
    "target = \"GAACT\"\n",
    "query = \"GAT\"\n",
    "alignments = aligner.align(target, query)\n",
    "print(len(alignments))\n",
    "alignment = alignments[1]\n",
    "alignment"
   ]
  },
  {
   "cell_type": "code",
   "execution_count": 20,
   "id": "d09110fe",
   "metadata": {},
   "outputs": [
    {
     "name": "stdout",
     "output_type": "stream",
     "text": [
      "3.0\n",
      "GAACT\n",
      "GAT\n",
      "target            0 GAACT 5\n",
      "                  0 |-|-| 5\n",
      "query             0 G-A-T 3\n",
      "\n",
      "[[0 1 2 3 4 5]\n",
      " [0 1 1 2 2 3]]\n",
      "2\n",
      "(2, 5)\n"
     ]
    }
   ],
   "source": [
    "print(alignment.score)\n",
    "print(alignment.target)\n",
    "print(alignment.query)\n",
    "print(alignment)\n",
    "print(alignment.coordinates)\n",
    "print(len(alignment))\n",
    "print(alignment.shape)"
   ]
  },
  {
   "cell_type": "code",
   "execution_count": 23,
   "id": "75cd9d14",
   "metadata": {},
   "outputs": [
    {
     "name": "stdout",
     "output_type": "stream",
     "text": [
      "2\n",
      "target            1 GAAC 5\n",
      "                  0 ||-| 4\n",
      "query             0 GA-C 3\n",
      "\n"
     ]
    },
    {
     "data": {
      "text/plain": [
       "array([[[0, 1],\n",
       "        [2, 3],\n",
       "        [4, 5]],\n",
       "\n",
       "       [[0, 1],\n",
       "        [1, 2],\n",
       "        [2, 3]]])"
      ]
     },
     "execution_count": 23,
     "metadata": {},
     "output_type": "execute_result"
    }
   ],
   "source": [
    "aligner.mode = \"local\"\n",
    "local_alignments = aligner.align(\"TGAACT\", \"GAC\")\n",
    "print(len(local_alignments))\n",
    "local_alignment = local_alignments[0]\n",
    "print(local_alignment)\n",
    "local_alignment.shape\n",
    "alignment.aligned\n"
   ]
  },
  {
   "cell_type": "code",
   "execution_count": 25,
   "id": "1f2765a8",
   "metadata": {},
   "outputs": [
    {
     "name": "stdout",
     "output_type": "stream",
     "text": [
      "target            1 GAAC 5\n",
      "                  0 |-|| 4\n",
      "query             0 G-AC 3\n",
      "\n"
     ]
    },
    {
     "data": {
      "text/plain": [
       "array([[[1, 2],\n",
       "        [3, 5]],\n",
       "\n",
       "       [[0, 1],\n",
       "        [1, 3]]])"
      ]
     },
     "execution_count": 25,
     "metadata": {},
     "output_type": "execute_result"
    }
   ],
   "source": [
    "alignment = local_alignments[1]\n",
    "print(alignment)\n",
    "alignment.aligned\n"
   ]
  },
  {
   "cell_type": "code",
   "execution_count": 31,
   "id": "d0757624",
   "metadata": {},
   "outputs": [
    {
     "data": {
      "text/plain": [
       "2"
      ]
     },
     "execution_count": 31,
     "metadata": {},
     "output_type": "execute_result"
    }
   ],
   "source": [
    "aligner.mode = \"global\"\n",
    "aligner.mismatch_score = -10\n",
    "alignments = aligner.align(\"AAACAAA\", \"AAAGAAA\")\n",
    "len(alignments)\n"
   ]
  },
  {
   "cell_type": "code",
   "execution_count": 35,
   "id": "11eb12e0",
   "metadata": {},
   "outputs": [
    {
     "name": "stdout",
     "output_type": "stream",
     "text": [
      "target            0 AAAC-AAA 7\n",
      "                  0 |||--||| 8\n",
      "query             0 AAA-GAAA 7\n",
      "\n",
      "target            0 AAA-CAAA 7\n",
      "                  0 |||--||| 8\n",
      "query             0 AAAG-AAA 7\n",
      "\n",
      "6.0\n",
      "Needleman-Wunsch\n"
     ]
    }
   ],
   "source": [
    "print(alignments[0])\n",
    "print(alignments[1])\n",
    "print(alignments[1].score)\n",
    "print(aligner.algorithm)"
   ]
  },
  {
   "cell_type": "code",
   "execution_count": 8,
   "id": "56ee6f88",
   "metadata": {},
   "outputs": [
    {
     "data": {
      "text/plain": [
       "array([[[0, 3],\n",
       "        [4, 7]],\n",
       "\n",
       "       [[0, 3],\n",
       "        [4, 7]]])"
      ]
     },
     "execution_count": 8,
     "metadata": {},
     "output_type": "execute_result"
    }
   ],
   "source": [
    "alignments[0].aligned\n"
   ]
  },
  {
   "cell_type": "code",
   "execution_count": 39,
   "id": "964dddb7",
   "metadata": {},
   "outputs": [
    {
     "name": "stdout",
     "output_type": "stream",
     "text": [
      "target            0 GA-C 3\n",
      "                  0 ||-| 4\n",
      "query             1 GAAC 5\n",
      "\n",
      "3.0\n",
      "target            0 GA-C 3\n",
      "                  0 ||-| 4\n",
      "query             1 GAAC 5\n",
      "\n",
      "3.0\n"
     ]
    }
   ],
   "source": [
    "local_alignment = local_alignments[0]\n",
    "print(local_alignment)\n",
    "print(local_alignment.score)\n",
    "local_alignment.sort()\n",
    "print(local_alignment)\n",
    "print(local_alignment.score)"
   ]
  },
  {
   "cell_type": "code",
   "execution_count": 40,
   "id": "d98ba1d1",
   "metadata": {},
   "outputs": [
    {
     "name": "stdout",
     "output_type": "stream",
     "text": [
      "target            1 GAAC 5\n",
      "                  0 ||-| 4\n",
      "query             0 GA-C 3\n",
      "\n",
      "target            0 GA-C 3\n",
      "                  0 ||-| 4\n",
      "query             1 GAAC 5\n",
      "\n"
     ]
    }
   ],
   "source": [
    "from Bio.SeqUtils import gc_fraction\n",
    "local_alignment.sort(key=gc_fraction)\n",
    "print(local_alignment)\n",
    "local_alignment.sort(key=gc_fraction, reverse=True)\n",
    "print(local_alignment)\n"
   ]
  },
  {
   "cell_type": "code",
   "execution_count": 47,
   "id": "2c30ccf8",
   "metadata": {},
   "outputs": [
    {
     "name": "stdout",
     "output_type": "stream",
     "text": [
      "8\n",
      "2\n"
     ]
    }
   ],
   "source": [
    "target = \"AAAAAAAACCCCCCCCGGGGGGGGTTTTTTTT\"\n",
    "query = \"AAAAAAACCCTCCCCGGCCGGGGTTTAGTTT\"\n",
    "alignments = aligner.align(target, query)\n",
    "aligner.mismatch_score = -1\n",
    "aligner.gap_score = -1\n",
    "alignments = aligner.align(target, query)\n",
    "print(len(alignments))\n",
    "alignment = alignments[0]\n",
    "print(len(alignment))\n",
    "\n"
   ]
  },
  {
   "cell_type": "code",
   "execution_count": 48,
   "id": "f4a75997",
   "metadata": {},
   "outputs": [
    {
     "name": "stdout",
     "output_type": "stream",
     "text": [
      "target            0 AAAAAAAACCCCCCCCGGGGGGGGTTTTTTTT 32\n",
      "                  0 |||||||-|||.||||||..|||||||..||| 32\n",
      "query             0 AAAAAAA-CCCTCCCCGGCCGGGGTTTAGTTT 31\n",
      "\n",
      "20.0\n",
      "    A   C   G   T\n",
      "A 7.0 0.0 0.0 0.0\n",
      "C 0.0 7.0 0.0 1.0\n",
      "G 0.0 2.0 6.0 0.0\n",
      "T 1.0 0.0 1.0 6.0\n",
      "\n"
     ]
    }
   ],
   "source": [
    "print(alignments[0])\n",
    "print(alignment.score)\n",
    "m = alignments[0].substitutions\n",
    "print(m)\n"
   ]
  },
  {
   "cell_type": "code",
   "execution_count": 49,
   "id": "6b3e9f37",
   "metadata": {},
   "outputs": [
    {
     "name": "stdout",
     "output_type": "stream",
     "text": [
      "    A   C   G   T\n",
      "A 7.0 0.0 0.0 0.5\n",
      "C 0.0 7.0 1.0 0.5\n",
      "G 0.0 1.0 6.0 0.5\n",
      "T 0.5 0.5 0.5 6.0\n",
      "\n"
     ]
    }
   ],
   "source": [
    "m += m.transpose()\n",
    "m /= 2.0\n",
    "print(m)"
   ]
  },
  {
   "cell_type": "code",
   "execution_count": null,
   "id": "8c89a3a9",
   "metadata": {},
   "outputs": [],
   "source": []
  }
 ],
 "metadata": {
  "kernelspec": {
   "display_name": "Python 3 (ipykernel)",
   "language": "python",
   "name": "python3"
  },
  "language_info": {
   "codemirror_mode": {
    "name": "ipython",
    "version": 3
   },
   "file_extension": ".py",
   "mimetype": "text/x-python",
   "name": "python",
   "nbconvert_exporter": "python",
   "pygments_lexer": "ipython3",
   "version": "3.11.5"
  }
 },
 "nbformat": 4,
 "nbformat_minor": 5
}
